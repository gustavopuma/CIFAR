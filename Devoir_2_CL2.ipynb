{
 "cells": [
  {
   "cell_type": "markdown",
   "metadata": {},
   "source": [
    "# Devoir 2: les réseaux convolutifs\n",
    "\n",
    "L'objectif du présent travail est de vous familiaiser avec les réseaux de neurones convolutifs ainsi que leur architecture dans tensorflow. De plus, il vous permettra d'expérimenter les approches d'augmentation des données qui sont couramment utilisées en apprentissage profond. \n",
    "\n",
    "La tâche en est une de classification: à partir de la base de données CIFAR10, qui peut être instantiée directement à partir de tensorflow, vous devrez concevoir un classifieur qui permet de reconnaître correctement les 10 classes d'objets. Vous devrez vous servir des stratégies d'entraînement suivantes:\n",
    "\n",
    "- apprentissage par curriculum (concevoir une tâche 'facile' et une tâche 'difficile' de sorte à vous servir des représentations cachées apprises lors de la résolution de la tâche facile comme valeurs initiales pour l'apprentissage de la tâche difficile)\n",
    "\n",
    "- Augmentation des données (les fonctions nécessaires sont fournies dans le présent notebook) \n",
    "\n",
    "Bonus:\n",
    "\n",
    "- utilisation du dropout dans les couches convolutives\n",
    "\n",
    "- utilisation du taux d'apprentissage décroissant\n",
    "\n",
    "Bon travail!\n"
   ]
  },
  {
   "cell_type": "markdown",
   "metadata": {},
   "source": [
    "## Partie 1: acquisition et visualisation des données"
   ]
  },
  {
   "cell_type": "code",
   "execution_count": 191,
   "metadata": {},
   "outputs": [],
   "source": [
    "# Importation des librairies\n",
    "import numpy as np\n",
    "import matplotlib.pyplot as plt\n",
    "import tensorflow.compat.v1 as tf\n",
    "tf.disable_eager_execution()\n",
    "from tqdm import tqdm\n",
    "from copy import deepcopy"
   ]
  },
  {
   "cell_type": "code",
   "execution_count": 192,
   "metadata": {},
   "outputs": [],
   "source": [
    "# Importation des donnees\n",
    "(X_train, Y_train), (X_test, Y_test) = tf.keras.datasets.cifar10.load_data()"
   ]
  },
  {
   "cell_type": "code",
   "execution_count": 193,
   "metadata": {},
   "outputs": [
    {
     "name": "stdout",
     "output_type": "stream",
     "text": [
      "Requirement already satisfied: pillow in c:\\users\\gus\\anaconda3\\lib\\site-packages (6.2.0)\n"
     ]
    },
    {
     "data": {
      "text/plain": [
       "(50000, 32, 32, 3)"
      ]
     },
     "execution_count": 193,
     "metadata": {},
     "output_type": "execute_result"
    }
   ],
   "source": [
    "!pip install pillow\n",
    "from PIL import Image\n",
    "X_train.shape"
   ]
  },
  {
   "cell_type": "code",
   "execution_count": 194,
   "metadata": {},
   "outputs": [
    {
     "data": {
      "text/plain": [
       "(50000, 1)"
      ]
     },
     "execution_count": 194,
     "metadata": {},
     "output_type": "execute_result"
    }
   ],
   "source": [
    "Y_train.shape"
   ]
  },
  {
   "cell_type": "code",
   "execution_count": 195,
   "metadata": {},
   "outputs": [],
   "source": [
    "\n",
    "\n",
    "def trasform_1h(Y,size=10):\n",
    "    Y_h =np.zeros([Y.shape[0],size],dtype=int)\n",
    "    for iy in range(Y.shape[0]):\n",
    "        classe = int(Y[iy])\n",
    "        vec_1h = [0]*size\n",
    "        vec_1h[classe] = 1\n",
    "        Y_h[iy] = vec_1h \n",
    "    return Y_h\n",
    "def classify_animal_object(Y):\n",
    "    i_animals = [0,1,8,9]\n",
    "    Y_a_o =np.zeros([Y.shape[0],1],dtype=int)\n",
    "    for i in range(Y.shape[0]):\n",
    "        #print(\"Y-\",Y[i,0])\n",
    "        if Y[i,0] in i_animals:\n",
    "            Y_a_o[i] = 1\n",
    "    return Y_a_o\n",
    "           "
   ]
  },
  {
   "cell_type": "code",
   "execution_count": 196,
   "metadata": {},
   "outputs": [],
   "source": [
    "#Y_h = np.reshape(Y_h,[50000,10])\n",
    "#Y_h_test = np.reshape(Y_h_test,[10000,10])"
   ]
  },
  {
   "cell_type": "markdown",
   "metadata": {},
   "source": [
    "## Partie 2: Fonctions de manipulation des données"
   ]
  },
  {
   "cell_type": "markdown",
   "metadata": {},
   "source": [
    "### Mise à l'échelle"
   ]
  },
  {
   "cell_type": "code",
   "execution_count": 197,
   "metadata": {},
   "outputs": [],
   "source": [
    "def image_echelle(img, fac):\n",
    "    \n",
    "    # Préparation\n",
    "    largeur, hauteur, canaux = img.shape\n",
    "    max_l = int( largeur * fac )\n",
    "    max_h = int( hauteur * fac )\n",
    "    init_l= np.random.randint( int( largeur * (1 - fac) ) )\n",
    "    init_h= np.random.randint( int( hauteur * (1 - fac) ) )\n",
    "    \n",
    "    # Sélection d'une portion de l'image\n",
    "    n_img = img[init_l : max_l, init_h : max_h, :]\n",
    "    # Restauration de la taille initiale\n",
    "    IM = Image.fromarray(n_img)\n",
    "    IM = IM.resize( (largeur, hauteur), Image.ANTIALIAS )\n",
    "    \n",
    "    return np.array(IM)\n",
    "    "
   ]
  },
  {
   "cell_type": "code",
   "execution_count": 198,
   "metadata": {},
   "outputs": [
    {
     "data": {
      "text/plain": [
       "(50000, 32, 32, 3)"
      ]
     },
     "execution_count": 198,
     "metadata": {},
     "output_type": "execute_result"
    }
   ],
   "source": [
    "X_train.shape"
   ]
  },
  {
   "cell_type": "code",
   "execution_count": 199,
   "metadata": {},
   "outputs": [
    {
     "data": {
      "text/plain": [
       "<matplotlib.image.AxesImage at 0x24ea4a17b70>"
      ]
     },
     "execution_count": 199,
     "metadata": {},
     "output_type": "execute_result"
    },
    {
     "data": {
      "image/png": "[encoded data removed]",
      "text/plain": [
       "<Figure size 864x432 with 2 Axes>"
      ]
     },
     "metadata": {
      "needs_background": "light"
     },
     "output_type": "display_data"
    }
   ],
   "source": [
    "X_train.shape\n",
    "hF = plt.figure(figsize=(12,6))\n",
    "Ax1 = hF.add_subplot(121)\n",
    "Ax1.imshow(X_train[1, :, :, :])\n",
    "Ax2 = hF.add_subplot(122)\n",
    "Ax2.imshow( image_echelle(X_train[1, :, :, :], 0.8))\n"
   ]
  },
  {
   "cell_type": "code",
   "execution_count": 200,
   "metadata": {},
   "outputs": [],
   "source": [
    "#from tqdm import tqdm_notebook\n",
    "#for r in tqdm_notebook(X_train):\n",
    "#    result = np.reshape(image_echelle(r,0.7),[1,32,32,3])\n",
    "#    X_train += result"
   ]
  },
  {
   "cell_type": "code",
   "execution_count": 201,
   "metadata": {},
   "outputs": [
    {
     "data": {
      "text/plain": [
       "(50000, 32, 32, 3)"
      ]
     },
     "execution_count": 201,
     "metadata": {},
     "output_type": "execute_result"
    }
   ],
   "source": [
    "X_train.shape"
   ]
  },
  {
   "cell_type": "code",
   "execution_count": 202,
   "metadata": {},
   "outputs": [
    {
     "data": {
      "text/plain": [
       "(50000, 32, 32, 3)"
      ]
     },
     "execution_count": 202,
     "metadata": {},
     "output_type": "execute_result"
    }
   ],
   "source": [
    "X_train.shape"
   ]
  },
  {
   "cell_type": "markdown",
   "metadata": {},
   "source": [
    "### Translation"
   ]
  },
  {
   "cell_type": "code",
   "execution_count": 203,
   "metadata": {},
   "outputs": [],
   "source": [
    "def image_translation(img, fac):\n",
    "    \n",
    "    # Préparation\n",
    "    a = e = 1\n",
    "    b = d = 0\n",
    "\n",
    "    largeur, hauteur, canaux = img.shape\n",
    "    c= np.random.randint( -int( largeur * fac ), int( largeur * fac ) )\n",
    "    f= np.random.randint( -int( hauteur * fac ), int( hauteur * fac ) )\n",
    "    \n",
    "    # Tranlsation\n",
    "    IM = Image.fromarray(img)\n",
    "    IM = IM.transform(IM.size, Image.AFFINE, (a, b, c, d, e, f))\n",
    "    \n",
    "    return np.array(IM)"
   ]
  },
  {
   "cell_type": "code",
   "execution_count": 204,
   "metadata": {},
   "outputs": [
    {
     "data": {
      "text/plain": [
       "<matplotlib.image.AxesImage at 0x24ea4a8acc0>"
      ]
     },
     "execution_count": 204,
     "metadata": {},
     "output_type": "execute_result"
    },
    {
     "data": {
      "image/png": "[encoded data removed]",
      "text/plain": [
       "<Figure size 864x432 with 2 Axes>"
      ]
     },
     "metadata": {
      "needs_background": "light"
     },
     "output_type": "display_data"
    }
   ],
   "source": [
    "X_train.shape\n",
    "hF = plt.figure(figsize=(12,6))\n",
    "Ax1 = hF.add_subplot(121)\n",
    "Ax1.imshow(X_train[0, :, :, :])\n",
    "Ax2 = hF.add_subplot(122)\n",
    "Ax2.imshow( image_translation(X_train[0, :, :, :], 0.2))"
   ]
  },
  {
   "cell_type": "markdown",
   "metadata": {},
   "source": [
    "### Rotation"
   ]
  },
  {
   "cell_type": "code",
   "execution_count": 205,
   "metadata": {},
   "outputs": [],
   "source": [
    "def image_rotation(img, angle):\n",
    "    \n",
    "    # Préparation\n",
    "    IM = Image.fromarray(img)\n",
    "    IM = IM.rotate(angle)\n",
    "    \n",
    "    return np.array(IM)"
   ]
  },
  {
   "cell_type": "code",
   "execution_count": 206,
   "metadata": {},
   "outputs": [
    {
     "data": {
      "text/plain": [
       "<matplotlib.image.AxesImage at 0x24ea4b447b8>"
      ]
     },
     "execution_count": 206,
     "metadata": {},
     "output_type": "execute_result"
    },
    {
     "data": {
      "image/png": "[encoded data removed]",
      "text/plain": [
       "<Figure size 864x432 with 2 Axes>"
      ]
     },
     "metadata": {
      "needs_background": "light"
     },
     "output_type": "display_data"
    }
   ],
   "source": [
    "X_train.shape\n",
    "hF = plt.figure(figsize=(12,6))\n",
    "Ax1 = hF.add_subplot(121)\n",
    "Ax1.imshow(X_train[0, :, :, :])\n",
    "Ax2 = hF.add_subplot(122)\n",
    "Ax2.imshow( image_rotation(X_train[0, :, :, :], 20))"
   ]
  },
  {
   "cell_type": "markdown",
   "metadata": {},
   "source": [
    "### Inversion"
   ]
  },
  {
   "cell_type": "code",
   "execution_count": 207,
   "metadata": {},
   "outputs": [],
   "source": [
    "def image_inversion(img, proba_h, proba_v):\n",
    "    \n",
    "    # Préparation\n",
    "    if proba_h>np.random.random():\n",
    "        if proba_v>np.random.random():\n",
    "            img = img[::-1, ::-1, :]\n",
    "        else:\n",
    "            img = img[:, ::-1, :]\n",
    "    elif proba_v>np.random.random():\n",
    "        img = img[::-1, :, :]\n",
    "    \n",
    "    return np.array(img)"
   ]
  },
  {
   "cell_type": "code",
   "execution_count": 208,
   "metadata": {},
   "outputs": [
    {
     "data": {
      "text/plain": [
       "<matplotlib.image.AxesImage at 0x24ea4c432e8>"
      ]
     },
     "execution_count": 208,
     "metadata": {},
     "output_type": "execute_result"
    },
    {
     "data": {
      "image/png": "[encoded data removed]",
      "text/plain": [
       "<Figure size 864x432 with 2 Axes>"
      ]
     },
     "metadata": {
      "needs_background": "light"
     },
     "output_type": "display_data"
    }
   ],
   "source": [
    "X_train.shape\n",
    "hF = plt.figure(figsize=(12,6))\n",
    "Ax1 = hF.add_subplot(121)\n",
    "Ax1.imshow(X_train[0, :, :, :])\n",
    "Ax2 = hF.add_subplot(122)\n",
    "Ax2.imshow( image_inversion(X_train[0, :, :, :], 0, 0))"
   ]
  },
  {
   "cell_type": "code",
   "execution_count": 209,
   "metadata": {},
   "outputs": [],
   "source": [
    "def list_fonction_augmentation():\n",
    "    f1 = lambda x : image_echelle(x,0.8 )\n",
    "    f2 = lambda x : image_translation(x,0.2 )\n",
    "    f3 = lambda x : image_rotation(x,20)\n",
    "    f4 = lambda x : image_inversion(x,0,0)\n",
    "    f5 = lambda x : x\n",
    "    return [f1,f2,f3,f4,f5]"
   ]
  },
  {
   "cell_type": "code",
   "execution_count": 210,
   "metadata": {},
   "outputs": [],
   "source": [
    "def executer_fonction_augmentation(X,entrainer,train_step, cout , y_1h,params,step,cout_actuel):\n",
    "    trans_batch = np.zeros([X[:, :, :, :].shape[0],32,32,3])\n",
    "    augmentations = []\n",
    "    qtd = 0\n",
    "    c_moyen = 0 \n",
    "    _,c = entrainer(train_step,cout,X/255,y_1h,params,step)\n",
    "    c_moyen += c\n",
    "    for f in list_fonction_augmentation() :\n",
    "        if np.random.random() <0.25:\n",
    "            qtd += 1\n",
    "            for r in range(X[:, :, :, :].shape[0]):\n",
    "                trans_batch[r] = np.reshape(f(X[r, :, :, :]), [-1, 32, 32, 3])\n",
    "            _,c = entrainer(train_step,cout,trans_batch/255,y_1h,params,step)\n",
    "            c_moyen += c\n",
    "    if qtd == 0 :\n",
    "        return cout_actuel\n",
    "    else:\n",
    "        return c_moyen /qtd\n"
   ]
  },
  {
   "cell_type": "markdown",
   "metadata": {},
   "source": [
    "## Partie 3: Construction du réseau"
   ]
  },
  {
   "cell_type": "code",
   "execution_count": 211,
   "metadata": {},
   "outputs": [
    {
     "data": {
      "text/plain": [
       "array([ 7906, 29815, 47720, ...,  9776, 20799, 43810])"
      ]
     },
     "execution_count": 211,
     "metadata": {},
     "output_type": "execute_result"
    }
   ],
   "source": [
    "vec_permutation = np.random.permutation(50000)\n",
    "vec_permutation\n"
   ]
  },
  {
   "cell_type": "code",
   "execution_count": 212,
   "metadata": {},
   "outputs": [],
   "source": [
    "import math\n"
   ]
  },
  {
   "cell_type": "code",
   "execution_count": 213,
   "metadata": {},
   "outputs": [],
   "source": [
    "def construire_reseau():\n",
    "    # signal d'entree X: images de taille 32x32\n",
    "    X = tf.placeholder(tf.float32, [None, 32, 32, 3],\"X\")\n",
    "    # Les classes des images\n",
    "    Y_reel_facile = tf.placeholder(tf.float32, [None, 2],name=\"Y_reel_facile\")\n",
    "    Y_reel_difficile = tf.placeholder(tf.float32, [None, 10],name=\"Y_reel_difficile\")\n",
    "    # Probabilité de garder la valeur d'une unité cachée: utilisée par le dropout \n",
    "    pkeep = tf.placeholder(tf.float32,name=\"pkeep\")\n",
    "    # Pas de décroissance du taux d'apprentissage\n",
    "    step = tf.placeholder(tf.int32,name=\"step\")\n",
    "\n",
    "    # 1ere couche de convolution\n",
    "    K  = 6  # nombre de noyaux de convolution\n",
    "    W1 = tf.Variable(tf.truncated_normal([3, 3, 3, K], stddev=0.1))  \n",
    "    B1 = tf.Variable(tf.constant(0.1, tf.float32, [K]))\n",
    "    stride = 1  # format de sortie: 28x28\n",
    "    Y1 = tf.nn.relu(tf.nn.conv2d(X, W1, strides=[1, stride, stride, 1], padding='SAME') + B1)\n",
    "    YY1= tf.nn.dropout(Y1, pkeep)  \n",
    "    # 2eme couche de convolution   \n",
    "    L  = 12  # nombre de noyaux de convolution\n",
    "    W2 = tf.Variable(tf.truncated_normal([5, 5, K, L], stddev=0.1))\n",
    "    B2 = tf.Variable(tf.constant(0.1, tf.float32, [L]))\n",
    "    stride = 2  #format de sortie: 17x17\n",
    "    Y2 = tf.nn.relu(tf.nn.conv2d(YY1, W2, strides=[1, stride, stride, 1], padding='SAME') + B2)\n",
    "    conv1_pool = tf.nn.max_pool(Y2, ksize=[1,2,2,1], strides=[1,2,2,1], padding='SAME')\n",
    "    conv1_bn = tf.layers.batch_normalization(conv1_pool)\n",
    "    #print(\"y2\",Y2)\n",
    "    # 2eme couche de convolution   \n",
    "    M  = 24  # nombre de noyaux de convolution\n",
    "    W3 = tf.Variable(tf.truncated_normal([5, 5, L, M], stddev=0.1))\n",
    "    B3 = tf.Variable(tf.constant(0.1, tf.float32, [M]))\n",
    "    stride = 2  # format de sortie: 7x7\n",
    "    Y3 = tf.nn.relu(tf.nn.conv2d(conv1_bn, W3, strides=[1, stride, stride, 1], padding='SAME') + B3,name='Y3')\n",
    "    # La sortie de cette couche va etre connectee a une couche densément connecectée\n",
    "    # il faut applatir le vecteur\n",
    "    #print(Y3)\n",
    "    conv4_pool = tf.nn.max_pool(Y3, ksize=[1,2,2,1], strides=[1,2,2,1], padding='SAME')\n",
    "    conv4_bn = tf.layers.batch_normalization(conv4_pool)\n",
    "    #print(\"conv4_bn\",conv4_bn)\n",
    "    YY = tf.reshape(conv4_bn, shape=[-1, 2 * 2 * M],name=\"YY\")\n",
    "    \n",
    "    # 1ere couche densément connectée \n",
    "    N  = 200  \n",
    "    W4 = tf.Variable(tf.truncated_normal([2 *2 * M, N], stddev=0.1))\n",
    "    B4 = tf.Variable(tf.constant(0.1, tf.float32, [N]))\n",
    "    Y4 = tf.nn.relu(tf.matmul(YY, W4) + B4)\n",
    "    YY4= tf.nn.dropout(Y4, pkeep)\n",
    "    \n",
    "    # 2eme couche densément connectée \n",
    "    W5 = tf.Variable(tf.truncated_normal([N, 2], stddev=0.1))\n",
    "    B5 = tf.Variable(tf.constant(0.1, tf.float32, [2]))\n",
    "    Ylogits_facile = tf.add( tf.matmul(YY4, W5), B5 )\n",
    "    Y_facile = tf.nn.softmax(Ylogits_facile,name=\"Y_facile\")\n",
    "   \n",
    "    W6 = tf.Variable(tf.truncated_normal([N, 10], stddev=0.1))\n",
    "    B6 = tf.Variable(tf.constant(0.1, tf.float32, [10]))\n",
    "    Ylogits_difficile = tf.add( tf.matmul(YY4, W6), B6 )\n",
    "    Y_difficile = tf.nn.softmax(Ylogits_difficile,name=\"Y_dificille\")\n",
    "    # La fonction de cout utilisée pour la classification est l'entropie croisée\n",
    "    cout_facile = tf.nn.softmax_cross_entropy_with_logits_v2(logits=Ylogits_facile, labels=Y_reel_facile)\n",
    "    cout_facile = tf.reduce_mean(cout_facile)*100\n",
    "    \n",
    "    # La fonction de cout utilisée pour la classification est l'entropie croisée\n",
    "    cout_difficile = tf.nn.softmax_cross_entropy_with_logits_v2(logits=Ylogits_difficile, labels=Y_reel_difficile)\n",
    "    cout_difficile = tf.reduce_mean(cout_difficile)*100\n",
    "\n",
    "    # Etape d'entrainement\n",
    "    # the learning rate is: # 0.0001 + 0.003 * (1/e)^(step/2000)), i.e. exponential decay from 0.003->0.0001\n",
    "    lr = 0.0001 +  tf.train.exponential_decay(0.003, step, 2000, 1/math.e)\n",
    "    train_step_facile = tf.train.AdamOptimizer(lr).minimize(cout_facile)\n",
    "    \n",
    "    # Etape d'entrainement pour la tache difficile\n",
    "    # the learning rate is: # 0.0001 + 0.003 * (1/e)^(step/2000)), i.e. exponential decay from 0.003->0.0001\n",
    "    lr = tf.train.exponential_decay(0.001, step, 2000,.96)\n",
    "    train_step_difficile = tf.train.AdamOptimizer(lr).minimize(cout_difficile)\n",
    "    # Initialiser les variables \n",
    "    init = tf.global_variables_initializer()\n",
    "    \n",
    "    return X, Y_reel_facile, Y_reel_difficile, Y_facile, Y_difficile, pkeep, step, cout_facile, cout_difficile, train_step_facile, train_step_difficile, init\n"
   ]
  },
  {
   "cell_type": "code",
   "execution_count": null,
   "metadata": {},
   "outputs": [],
   "source": []
  },
  {
   "cell_type": "code",
   "execution_count": null,
   "metadata": {},
   "outputs": [],
   "source": []
  },
  {
   "cell_type": "markdown",
   "metadata": {},
   "source": [
    "## Partie 4: Définition de la tâche facile"
   ]
  },
  {
   "cell_type": "markdown",
   "metadata": {},
   "source": [
    "### La tâche facile est de classifier les images dans 2 groupes : objets ou animales"
   ]
  },
  {
   "cell_type": "code",
   "execution_count": 214,
   "metadata": {},
   "outputs": [],
   "source": [
    "import sys\n",
    "import random\n",
    "hyperp = {'nb_iterations':10, 'taille_batch':100, 'pas_affichage':1, 'p_keep':0.75}\n",
    "hist_count =[]\n",
    "accuracies = np.zeros([2,10000])\n",
    "def entrainer_reseau_facile(X1, Y1, sess,cout_facile, train_step_facile,  init, params,y_pred,X_test_task,Y_test_task):\n",
    "    batch_ys_test_1h = trasform_1h(Y_test_task,size=2)\n",
    "    batch_ys_test_1h = np.reshape(batch_ys_test_1h,[-1,2])\n",
    "    \n",
    " \n",
    "    \n",
    "    # Lancer l'initialisation\n",
    "   \n",
    "    sess.run(init)\n",
    "\n",
    "    error_train =[]\n",
    "    error_test=[]\n",
    "    # Définir les cycles d'entraînement\n",
    "    couts = []\n",
    "    trans_batch = np.zeros([params['taille_batch'],32,32,3])\n",
    "    i_c =0\n",
    "    cout_actuel = 0\n",
    "    precisions = []\n",
    "    for iter in range( params['nb_iterations'] ):\n",
    "        cout_moyen  = 0\n",
    "        \n",
    "        total_batch = int( X1.shape[0]/params['taille_batch'] )\n",
    "        # itérer sur l'ensemble des batchesprecision:{}\".format(cout_moyen,tester_reseau(sess,y_pred,batch_xs,batch_ys))\n",
    "        for i in range(total_batch):\n",
    "           \n",
    "           \n",
    "            debut_batch = i*params['taille_batch']\n",
    "            fin_batch   = debut_batch + params['taille_batch']\n",
    "            batch_xs    = np.reshape( X1[debut_batch:fin_batch, :], [-1, 32, 32, 3] )\n",
    "\n",
    "            batch_ys    = Y1[debut_batch:fin_batch]\n",
    "            batch_ys_1h = trasform_1h(batch_ys,size=2)\n",
    "            batch_ys_1h = np.reshape(batch_ys_1h,[100,2])\n",
    "            # Lancer l'optimisation (backprop) et en calculer le cout \n",
    "            entrainer = lambda train_step_facile, cout_facile ,x_t, y_1h,params,step: sess.run([train_step_facile, cout_facile], feed_dict={x: x_t, y_facile: batch_ys_1h, \n",
    "                                                              pkeep:params['p_keep'], step:iter})\n",
    "            c = executer_fonction_augmentation(batch_xs,entrainer,train_step_facile,cout_facile,batch_ys_1h,params,step,cout_actuel)\n",
    "            cout_actuel = c\n",
    "           # print(\">>> cout {}      \".format(c),end='\\r')\n",
    "            print(\">>>iteraction{} batch {}/{} cout{}  \".format(iter,i,total_batch,c),end='\\r')\n",
    "            error_train +=[c]\n",
    "            cout_test = sess.run(cout_facile, feed_dict={x:X_test_task[0:100,:,:,:]/255 , y_facile: batch_ys_test_1h[0:100], pkeep:1, step:iter})\n",
    "            error_test += [cout_test]\n",
    "            total_batch = int( X1.shape[0]/params['taille_batch'] )\n",
    "            if np.random.random() <0.25:\n",
    "                i_choice = np.random.choice(X_test_task.shape[0],size=100)\n",
    "                precisions += [tester_reseau(sess,y_pred,X_test_task[i_choice],Y_test_task[i_choice])]\n",
    "                 \n",
    "        \n",
    "        \n",
    "        train, = plt.plot(list(range(len(error_train))), error_train, 'r')\n",
    "        test, = plt.plot(list(range(len(error_test))), error_test, 'k')\n",
    "  \n",
    "    train.set_label('Train')\n",
    "    test.set_label('Test')\n",
    "    plt.xlabel(\"iteraction\")\n",
    "    plt.ylabel(\"error\")\n",
    "    plt.legend()\n",
    "    plt.show()\n",
    "    prec, = plt.plot(list(range(len(precisions))), precisions, 'r')\n",
    "    prec.set_label('Precision')\n",
    "    plt.xlabel(\"iteration\")\n",
    "    plt.ylabel(\"Precision\")\n",
    "    plt.show()\n",
    "    #print(\"Optimisation complétée!\")\n",
    "    return error_train\n",
    "    "
   ]
  },
  {
   "cell_type": "code",
   "execution_count": null,
   "metadata": {},
   "outputs": [],
   "source": []
  },
  {
   "cell_type": "code",
   "execution_count": 215,
   "metadata": {},
   "outputs": [],
   "source": [
    "def tester_reseau(sess, y_pred, X_n_test, Y_test):\n",
    "    # Calculons les prédictions pour les données test\n",
    "    # Les predictions sont sous forme de probabilites normalisees pour chaque classe\n",
    "    drop = 1\n",
    "   # print(y_pred)\n",
    "    y_pred_test = sess.run([y_pred], feed_dict={x:X_n_test,pkeep:drop})[0]\n",
    "   \n",
    "    # A present trouvons la classe la plus probable pour chaque image\n",
    "    y_pred_classe = np.argmax(y_pred_test, axis=1)\n",
    "    \n",
    "    y_pred_classe = np.reshape(y_pred_classe,[y_pred_classe.shape[0],1])\n",
    "    #print(\"y_pred_classe\",y_pred_classe)\n",
    "    #print(\"Y_test\",Y_test)\n",
    "    # precision\n",
    "    precision = np.mean( y_pred_classe==Y_test)\n",
    "    return precision"
   ]
  },
  {
   "cell_type": "code",
   "execution_count": null,
   "metadata": {},
   "outputs": [],
   "source": []
  },
  {
   "cell_type": "code",
   "execution_count": null,
   "metadata": {},
   "outputs": [],
   "source": []
  },
  {
   "cell_type": "code",
   "execution_count": 216,
   "metadata": {},
   "outputs": [
    {
     "name": "stdout",
     "output_type": "stream",
     "text": [
      ">>>iteraction9 batch 499/500 cout47.41269874572754   \r"
     ]
    },
    {
     "data": {
      "image/png": "[encoded data removed]",
      "text/plain": [
       "<Figure size 432x288 with 1 Axes>"
      ]
     },
     "metadata": {
      "needs_background": "light"
     },
     "output_type": "display_data"
    },
    {
     "data": {
      "image/png": "[encoded data removed]",
      "text/plain": [
       "<Figure size 432x288 with 1 Axes>"
      ]
     },
     "metadata": {
      "needs_background": "light"
     },
     "output_type": "display_data"
    }
   ],
   "source": [
    "# Construire le réseau convolutif\n",
    "[x, y_facile, y_difficile, y_pred_facile, y_pred_difficile, pkeep, step, cout_facile, cout_difficile, optimizer_facile, optimizer_difficile, init] = construire_reseau()    \n",
    "# Ouvrir une session de calcul\n",
    "sess = tf.Session()\n",
    "\n",
    "vec_permutation_50000 = np.random.permutation(50000)\n",
    "vec_permutation_10000 = np.random.permutation(10000)\n",
    "X_train_perm = X_train[vec_permutation_50000, :, :, :]\n",
    "Y_train_perm = classify_animal_object(Y_train[vec_permutation_50000])\n",
    "X_test_perm = X_test[vec_permutation_10000, :, :, :]\n",
    "Y_test_perm_bin = classify_animal_object(Y_test[vec_permutation_10000])    \n",
    "# Entrainer le réseau\n",
    "couts = entrainer_reseau_facile(X1=X_train_perm, Y1=Y_train_perm, sess=sess,\n",
    "                                cout_facile=cout_facile, train_step_facile=optimizer_facile, \n",
    "                                init=init, params=hyperp,y_pred=y_pred_facile,X_test_task=X_test_perm,\n",
    "                                Y_test_task=Y_test_perm_bin)\n",
    "    \n",
    "# Calculer la precision\n"
   ]
  },
  {
   "cell_type": "markdown",
   "metadata": {},
   "source": [
    "\n"
   ]
  },
  {
   "cell_type": "markdown",
   "metadata": {},
   "source": [
    "## Partie 5: Définition de la tâche difficile"
   ]
  },
  {
   "cell_type": "markdown",
   "metadata": {},
   "source": [
    "### la tache difficile est entrainer le réseau pré-entrainé à  classifier les 10 différents types d’image"
   ]
  },
  {
   "cell_type": "code",
   "execution_count": 217,
   "metadata": {},
   "outputs": [],
   "source": [
    "def entrainer_reseau_dificile(X1, Y1, sess, cout_difficile, optimizer_difficile, \n",
    "                              init, params,y_pred,X_test_task,Y_test_task):\n",
    "\n",
    "                \n",
    "    batch_ys_test_1h = trasform_1h(Y=Y_test_task)            \n",
    "    batch_ys_test_1h = np.reshape(batch_ys_test_1h,[-1,10])\n",
    "    \n",
    "   \n",
    "\n",
    "    error_train =[]\n",
    "    error_test=[]\n",
    "    # Définir les cycles d'entraînement\n",
    "    couts = []\n",
    "    trans_batch = np.zeros([params['taille_batch'],32,32,3])\n",
    "    i_c =0\n",
    "    cout_actuel = 0\n",
    "    precisions=[]\n",
    "    for iter in range( params['nb_iterations'] ):\n",
    "        cout_moyen  = 0.\n",
    "        total_batch = int( X1.shape[0]/params['taille_batch'] )\n",
    "\n",
    "        # itérer sur l'ensemble des batchesprecision:{}\".format(cout_moyen,tester_reseau(sess,y_pred,batch_xs,batch_ys))\n",
    "        for i in range(total_batch):\n",
    "           \n",
    "            \n",
    "            debut_batch = i*params['taille_batch']\n",
    "            fin_batch   = debut_batch + params['taille_batch']\n",
    "            batch_xs    = np.reshape( X1[debut_batch:fin_batch, :], [-1, 32, 32, 3] )\n",
    "           \n",
    "            batch_ys    = Y1[debut_batch:fin_batch]\n",
    "            batch_ys_1h = trasform_1h(Y=batch_ys)\n",
    "            batch_ys_1h = np.reshape(batch_ys_1h,[-1,10])\n",
    "            #print(batch_ys_1h)\n",
    "            # Lancer l'optimisation (backprop) et en calculer le cout \n",
    "            entrainer = lambda train_step_dificile, cout_difficile ,x_t, y_1h,params,step: sess.run([train_step_dificile, cout_difficile], feed_dict={x: x_t, y_difficile: batch_ys_1h, \n",
    "                                                              pkeep:params['p_keep'], step:iter})\n",
    "            c = executer_fonction_augmentation(batch_xs,entrainer,optimizer_difficile,cout_difficile,batch_ys_1h,params,step,cout_actuel)\n",
    "            cout_actuel = c\n",
    "        # print(\">>> cout {}      \".format(c),end='\\r')\n",
    "            print(\">>>iteraction{} batch:{}/{} cout:{} \".\n",
    "                  format(iter,i,total_batch,c),end='\\r')\n",
    "            if np.random.random() <0.25:\n",
    "                i_choice = np.random.choice(X_test_task.shape[0],size=100)\n",
    "                precisions += [tester_reseau(sess,y_pred,X_test_task[i_choice],Y_test_task[i_choice])]          \n",
    "        \n",
    "            error_train +=[c]\n",
    "            cout_test = sess.run(cout_difficile, feed_dict={x:X_test_task[1:100]/255 , y_difficile: batch_ys_test_1h[1:100],pkeep:1, step:iter})\n",
    "            error_test += [cout_test]\n",
    "        train, = plt.plot(list(range(len(error_train))), error_train, 'r')\n",
    "        test, = plt.plot(list(range(len(error_test))), error_test, 'k')\n",
    "        # Afficher le cout à chaque itération\n",
    "       # if ( (iter+1) % params['pas_affichage'] ) == 0:\n",
    "           # print(\"Iteration:\", '%04d' % (iter+1), \"cout=\", \"{:.9f} precision:{}\".format(cout_moyen,tester_reseau(sess,y_pred,batch_xs,batch_ys)))\n",
    "\n",
    "    train.set_label('Train')\n",
    "    test.set_label('Test')\n",
    "    plt.xlabel(\"iteraction\")\n",
    "    plt.ylabel(\"error\")\n",
    "    plt.legend()\n",
    "    plt.show()\n",
    "    prec, = plt.plot(list(range(len(precisions))), precisions, 'r')\n",
    "    prec.set_label('Precision')\n",
    "    plt.xlabel(\"iteration\")\n",
    "    plt.ylabel(\"Precision\")\n",
    "    plt.show()\n",
    "    #print(\"Optimisation complétée!\")\n",
    "    return error_train"
   ]
  },
  {
   "cell_type": "code",
   "execution_count": 218,
   "metadata": {},
   "outputs": [
    {
     "name": "stdout",
     "output_type": "stream",
     "text": [
      ">>>iteraction14 batch:499/500 cout:175.60171763102213 \r"
     ]
    },
    {
     "data": {
      "image/png": "[encoded data removed]",
      "text/plain": [
       "<Figure size 432x288 with 1 Axes>"
      ]
     },
     "metadata": {
      "needs_background": "light"
     },
     "output_type": "display_data"
    },
    {
     "data": {
      "image/png": "[encoded data removed]",
      "text/plain": [
       "<Figure size 432x288 with 1 Axes>"
      ]
     },
     "metadata": {
      "needs_background": "light"
     },
     "output_type": "display_data"
    }
   ],
   "source": [
    "hyperp = {'nb_iterations':15, 'taille_batch':100, 'pas_affichage':1, 'p_keep':0.75}\n",
    "vec_permutation_50000 = np.random.permutation(X_train.shape[0])\n",
    "vec_permutation_10000 = np.random.permutation(X_test.shape[0])\n",
    "X_train_perm = X_train[vec_permutation_50000, :, :, :]\n",
    "Y_train_perm = Y_train[vec_permutation_50000]\n",
    "X_test_perm = X_test[vec_permutation_10000, :, :, :]\n",
    "Y_test_perm = Y_test[vec_permutation_10000]    \n",
    "# Entrainer le réseau\n",
    "couts = entrainer_reseau_dificile(X1=X_train_perm, Y1=Y_train_perm, sess=sess,\n",
    "                                cout_difficile=cout_difficile, optimizer_difficile=optimizer_difficile, \n",
    "                                init=init, params=hyperp,y_pred=y_pred_difficile,X_test_task=X_test_perm,\n",
    "                                Y_test_task=Y_test_perm)"
   ]
  },
  {
   "cell_type": "markdown",
   "metadata": {},
   "source": [
    "## Partie 6: Entrainement et monitoring de l'erreur de test"
   ]
  },
  {
   "cell_type": "code",
   "execution_count": null,
   "metadata": {},
   "outputs": [],
   "source": []
  },
  {
   "cell_type": "code",
   "execution_count": 219,
   "metadata": {},
   "outputs": [
    {
     "data": {
      "text/plain": [
       "0.6163"
      ]
     },
     "execution_count": 219,
     "metadata": {},
     "output_type": "execute_result"
    }
   ],
   "source": [
    "\n",
    "\n",
    "precision = tester_reseau(sess, y_pred_difficile, X_test/255, Y_test)\n",
    "precision"
   ]
  },
  {
   "cell_type": "code",
   "execution_count": null,
   "metadata": {},
   "outputs": [],
   "source": []
  },
  {
   "cell_type": "code",
   "execution_count": null,
   "metadata": {},
   "outputs": [],
   "source": [
    "\n"
   ]
  },
  {
   "cell_type": "code",
   "execution_count": null,
   "metadata": {},
   "outputs": [],
   "source": []
  },
  {
   "cell_type": "code",
   "execution_count": null,
   "metadata": {},
   "outputs": [],
   "source": []
  }
 ],
 "metadata": {
  "kernelspec": {
   "display_name": "Python 3",
   "language": "python",
   "name": "python3"
  },
  "language_info": {
   "codemirror_mode": {
    "name": "ipython",
    "version": 3
   },
   "file_extension": ".py",
   "mimetype": "text/x-python",
   "name": "python",
   "nbconvert_exporter": "python",
   "pygments_lexer": "ipython3",
   "version": "3.7.3"
  }
 },
 "nbformat": 4,
 "nbformat_minor": 2
}
